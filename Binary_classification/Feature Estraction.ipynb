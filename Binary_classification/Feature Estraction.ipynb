{
 "cells": [
  {
   "cell_type": "markdown",
   "id": "76a31127",
   "metadata": {},
   "source": [
    "### It is necessary to change path of the database located in the github folder /data"
   ]
  },
  {
   "cell_type": "code",
   "execution_count": null,
   "id": "1dc58064",
   "metadata": {},
   "outputs": [],
   "source": [
    "import numpy as np\n",
    "import pandas as pd\n",
    "import os\n",
    "\n",
    "\n",
    "column_names = ['patient_number', 'age', 'sex', 'adult_BMI', 'child_weight', 'child_height']\n",
    "dataset = pd.read_csv('../input/respiratory-sound-database/demographic_info.txt', sep=\" \", header=None, names =column_names)\n",
    "dataset['sex'] = dataset['sex'].replace({'F': 1, 'M': 0})\n",
    "\n",
    "\n",
    "column_names = ['Beginning of respiratory cycle(s)','End of respiratory cycle(s)','Crackles','Wheezes']\n",
    "patient_dataset = {}\n",
    "\n",
    "for file in os.listdir(\"../input/respiratory-sound-database/Respiratory_Sound_Database/Respiratory_Sound_Database/audio_and_txt_files\"):\n",
    "        if file.endswith(\".txt\"):\n",
    "            patient_number = file.split(\"_\")[0]\n",
    "            data = pd.read_csv('../input/respiratory-sound-database/Respiratory_Sound_Database/Respiratory_Sound_Database/audio_and_txt_files/'+file, sep=\"\\t\", header=None, names = column_names)\n",
    "            for crackles in data['Crackles']:\n",
    "                if crackles == 1:\n",
    "                    if(patient_dataset.get(patient_number+\"_crackles\") != None):\n",
    "                        patient_dataset[patient_number+\"_crackles\"] += 1\n",
    "                    else:\n",
    "                        patient_dataset[patient_number+\"_crackles\"] = 1;\n",
    "            for wheezes in data['Wheezes']:\n",
    "                if wheezes == 1:\n",
    "                    if(patient_dataset.get(patient_number+\"_wheezes\") != None):\n",
    "                        patient_dataset[patient_number+\"_wheezes\"] += 1\n",
    "                    else:\n",
    "                        patient_dataset[patient_number+\"_wheezes\"] = 1;\n",
    "            \n",
    "final_patient_dataset = []\n",
    "\n",
    "new_data = {#'patient_number': [pd.to_numeric(101)], \n",
    "               'n_wheezes': [patient_dataset.get(str(101) + (\"_wheezes\"))],\n",
    "               'n_crackles': [patient_dataset.get(str(101) + (\"_crackles\"))]}\n",
    "new_data = pd.DataFrame(new_data)\n",
    "final_strings_for_dataset = pd.DataFrame(new_data)\n",
    "\n",
    "\n",
    "for patient_number in range (102, 227):  \n",
    "    \n",
    "    new_data = {#'patient_number': [pd.to_numeric(patient_number)], \n",
    "               'n_wheezes': [patient_dataset.get(str(patient_number) + (\"_wheezes\"))],\n",
    "               'n_crackles': [patient_dataset.get(str(patient_number) + (\"_crackles\"))]}\n",
    "    new_data = pd.DataFrame(new_data)\n",
    "    final_strings_for_dataset = final_strings_for_dataset.append([new_data],  ignore_index=True)\n",
    "\n",
    "\n",
    "final_strings_for_dataset.loc[~final_strings_for_dataset.index.duplicated(keep='first')]\n",
    "dataset.loc[~dataset.index.duplicated(keep='first')]\n",
    "\n",
    "dataset = pd.concat([dataset, final_strings_for_dataset], axis=1)\n",
    "dataset = dataset.replace(np.nan, '0')\n",
    "\n",
    "\n",
    "Y = pd.read_csv('../input/respiratory-sound-database/Respiratory_Sound_Database/Respiratory_Sound_Database/patient_diagnosis.csv', sep=\",\", header=None, names=['patient_number', 'diagnosis'])\n",
    "Y = Y['diagnosis']\n",
    "\n",
    "'''\n",
    "['URTI' 'Healthy' 'Asthma' 'COPD' 'LRTI' 'Bronchiectasis' 'Pneumonia' 'Bronchiolitis']\n",
    "'''\n",
    "\n",
    "Y = Y.replace('Healthy', 0)\n",
    "Y = Y.replace('URTI', 1)\n",
    "Y = Y.replace('Asthma', 1)\n",
    "Y = Y.replace('COPD', 1)\n",
    "Y = Y.replace('LRTI', 1)\n",
    "Y = Y.replace('Bronchiectasis', 1)\n",
    "Y = Y.replace('Pneumonia', 1)\n",
    "Y = Y.replace('Bronchiolitis', 1)\n",
    "Y = Y.replace(np.nan, '0')\n",
    "\n",
    "Y = pd.DataFrame(Y)\n",
    "print(dataset)"
   ]
  },
  {
   "cell_type": "markdown",
   "id": "b78ef9ba",
   "metadata": {},
   "source": [
    "## SelectKBest algorithm"
   ]
  },
  {
   "cell_type": "code",
   "execution_count": 2,
   "id": "b17dbe16",
   "metadata": {},
   "outputs": [
    {
     "ename": "NameError",
     "evalue": "name 'dataset' is not defined",
     "output_type": "error",
     "traceback": [
      "\u001b[1;31m---------------------------------------------------------------------------\u001b[0m",
      "\u001b[1;31mNameError\u001b[0m                                 Traceback (most recent call last)",
      "\u001b[1;32m<ipython-input-2-08b47edf4bd2>\u001b[0m in \u001b[0;36m<module>\u001b[1;34m\u001b[0m\n\u001b[0;32m      2\u001b[0m \u001b[1;32mfrom\u001b[0m \u001b[0msklearn\u001b[0m\u001b[1;33m.\u001b[0m\u001b[0mfeature_selection\u001b[0m \u001b[1;32mimport\u001b[0m \u001b[0mchi2\u001b[0m\u001b[1;33m\u001b[0m\u001b[1;33m\u001b[0m\u001b[0m\n\u001b[0;32m      3\u001b[0m \u001b[1;33m\u001b[0m\u001b[0m\n\u001b[1;32m----> 4\u001b[1;33m \u001b[0mdataset_new\u001b[0m \u001b[1;33m=\u001b[0m \u001b[0mSelectKBest\u001b[0m\u001b[1;33m(\u001b[0m\u001b[0mchi2\u001b[0m\u001b[1;33m,\u001b[0m \u001b[0mk\u001b[0m\u001b[1;33m=\u001b[0m\u001b[1;36m2\u001b[0m\u001b[1;33m)\u001b[0m\u001b[1;33m.\u001b[0m\u001b[0mfit_transform\u001b[0m\u001b[1;33m(\u001b[0m\u001b[0mdataset\u001b[0m\u001b[1;33m,\u001b[0m \u001b[0mY\u001b[0m\u001b[1;33m)\u001b[0m\u001b[1;33m\u001b[0m\u001b[1;33m\u001b[0m\u001b[0m\n\u001b[0m\u001b[0;32m      5\u001b[0m \u001b[1;31m#print(dataset)\u001b[0m\u001b[1;33m\u001b[0m\u001b[1;33m\u001b[0m\u001b[1;33m\u001b[0m\u001b[0m\n\u001b[0;32m      6\u001b[0m \u001b[1;31m#print(dataset_new)\u001b[0m\u001b[1;33m\u001b[0m\u001b[1;33m\u001b[0m\u001b[1;33m\u001b[0m\u001b[0m\n",
      "\u001b[1;31mNameError\u001b[0m: name 'dataset' is not defined"
     ]
    }
   ],
   "source": [
    "from sklearn.feature_selection import SelectKBest\n",
    "from sklearn.feature_selection import chi2\n",
    "\n",
    "dataset_new = SelectKBest(chi2, k=2).fit_transform(dataset, Y)\n",
    "#print(dataset)\n",
    "#print(dataset_new)"
   ]
  },
  {
   "cell_type": "markdown",
   "id": "c106d1b1",
   "metadata": {},
   "source": [
    "## K-fold cross validation"
   ]
  },
  {
   "cell_type": "code",
   "execution_count": null,
   "id": "fede2b2f",
   "metadata": {},
   "outputs": [],
   "source": [
    "import matplotlib.pyplot as plt\n",
    "from sklearn.svm import SVC\n",
    "from sklearn.model_selection import StratifiedKFold\n",
    "from sklearn.feature_selection import RFECV\n",
    "\n",
    "features_for_selection = dataset\n",
    "\n",
    "svc = SVC(kernel=\"linear\")\n",
    "rfecv = RFECV(estimator=svc, step=1, cv=StratifiedKFold(n_splits=50), scoring='precision')\n",
    "rfecv.fit(features_for_selection, np.ravel(Y))\n",
    "\n",
    "print(\"Optimal number of features : %d\" % rfecv.n_features_)\n",
    "#print(rfecv.support_)\n",
    "print(rfecv.ranking_)\n",
    "print(rfecv.grid_scores_)\n",
    "\n",
    "plt.figure()\n",
    "plt.xlabel(\"Number of features selected\")\n",
    "plt.ylabel(\"Cross validation score\")\n",
    "plt.plot(range(1, len(features_for_selection.columns)+1), rfecv.grid_scores_)\n",
    "plt.show()"
   ]
  }
 ],
 "metadata": {
  "kernelspec": {
   "display_name": "Python 3",
   "language": "python",
   "name": "python3"
  },
  "language_info": {
   "codemirror_mode": {
    "name": "ipython",
    "version": 3
   },
   "file_extension": ".py",
   "mimetype": "text/x-python",
   "name": "python",
   "nbconvert_exporter": "python",
   "pygments_lexer": "ipython3",
   "version": "3.8.8"
  }
 },
 "nbformat": 4,
 "nbformat_minor": 5
}
